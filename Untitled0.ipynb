{
  "nbformat": 4,
  "nbformat_minor": 0,
  "metadata": {
    "colab": {
      "provenance": [],
      "mount_file_id": "1wJrMukTNoCA9fvV04wlHe3JaKL67C8JK",
      "authorship_tag": "ABX9TyMCaeNzGJhRAQHQ+MrPgqMX",
      "include_colab_link": true
    },
    "kernelspec": {
      "name": "python3",
      "display_name": "Python 3"
    },
    "language_info": {
      "name": "python"
    }
  },
  "cells": [
    {
      "cell_type": "markdown",
      "metadata": {
        "id": "view-in-github",
        "colab_type": "text"
      },
      "source": [
        "<a href=\"https://colab.research.google.com/github/Bhagyachinnu/NexForce/blob/main/Untitled0.ipynb\" target=\"_parent\"><img src=\"https://colab.research.google.com/assets/colab-badge.svg\" alt=\"Open In Colab\"/></a>"
      ]
    },
    {
      "cell_type": "code",
      "execution_count": null,
      "metadata": {
        "id": "tXMT5-DWp5L0"
      },
      "outputs": [],
      "source": []
    },
    {
      "cell_type": "code",
      "source": [
        "import pandas as pd"
      ],
      "metadata": {
        "id": "zHXLMkGOqiBG"
      },
      "execution_count": 1,
      "outputs": []
    },
    {
      "cell_type": "code",
      "source": [
        "path=\"/content/drive/MyDrive/dataset/_01 (1).csv\"\n",
        "d=pd.read_csv(path)"
      ],
      "metadata": {
        "id": "1e_6RKZ3q483"
      },
      "execution_count": 2,
      "outputs": []
    },
    {
      "cell_type": "code",
      "source": [
        "import statistics"
      ],
      "metadata": {
        "id": "5K6nz5EBrQGH"
      },
      "execution_count": 3,
      "outputs": []
    },
    {
      "cell_type": "code",
      "source": [
        "from statistics import mode\n",
        "height_mean=d['Height(Inches)'].mean()\n",
        "height_median=d['Height(Inches)'].median()\n",
        "height_mode=mode(d['Height(Inches)'])\n",
        "\n",
        "print(\"Height Mean:\",height_mean)\n",
        "print(\"Height Median:\",height_median)\n",
        "print(\"Height Mode:\",height_mode)"
      ],
      "metadata": {
        "colab": {
          "base_uri": "https://localhost:8080/"
        },
        "id": "8XOasMOqrUYK",
        "outputId": "52d71a5e-68ef-42c8-c26e-e8a0336a08d2"
      },
      "execution_count": 5,
      "outputs": [
        {
          "output_type": "stream",
          "name": "stdout",
          "text": [
            "Height Mean: 67.99311359679999\n",
            "Height Median: 67.9957\n",
            "Height Mode: 70.04724\n"
          ]
        }
      ]
    },
    {
      "cell_type": "code",
      "source": [
        "height_mean=d['Weight(Pounds)'].mean()\n",
        "height_median=d['Weight(Pounds)'].median()\n",
        "height_mode=mode(d['Weight(Pounds)'])\n",
        "\n",
        "print(\"Weight Mean:\",height_mean)\n",
        "print(\"Weight Median:\",height_median)\n",
        "print(\"Weight Mode :\",height_mode)"
      ],
      "metadata": {
        "colab": {
          "base_uri": "https://localhost:8080/"
        },
        "id": "vP1NNwALs3Wm",
        "outputId": "3ff49b7f-7162-42f2-d1dc-bfca65d7e098"
      },
      "execution_count": 7,
      "outputs": [
        {
          "output_type": "stream",
          "name": "stdout",
          "text": [
            "Weight Mean: 127.07942116080001\n",
            "Weight Median: 127.15775\n",
            "Weight Mode : 124.7975\n"
          ]
        }
      ]
    }
  ]
}